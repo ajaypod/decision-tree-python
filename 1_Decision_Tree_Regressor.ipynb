{
 "cells": [
  {
   "cell_type": "code",
   "execution_count": 145,
   "metadata": {},
   "outputs": [],
   "source": [
    "import numpy as np\n",
    "import importlib\n",
    "import DecisionTree\n",
    "importlib.reload(DecisionTree)\n",
    "import pandas as pd"
   ]
  },
  {
   "cell_type": "code",
   "execution_count": 112,
   "metadata": {},
   "outputs": [],
   "source": [
    "# Import Data\n",
    "wine_data = pd.read_csv(\"data/winequality-white.csv\", sep=\";\").values"
   ]
  },
  {
   "cell_type": "code",
   "execution_count": 137,
   "metadata": {},
   "outputs": [
    {
     "name": "stdout",
     "output_type": "stream",
     "text": [
      "Test Model 0:\n",
      "RMSE: 1.01\n",
      "Speed: 1.300355 seconds\n",
      "Max Depth of Tree: 427\n",
      "********************\n",
      "Test Model 1:\n",
      "RMSE: 0.96\n",
      "Speed: 0.863217 seconds\n",
      "Max Depth of Tree: 395\n",
      "********************\n",
      "Test Model 2:\n",
      "RMSE: 0.95\n",
      "Speed: 0.479529 seconds\n",
      "Max Depth of Tree: 241\n",
      "********************\n",
      "Test Model 3:\n",
      "RMSE: 0.94\n",
      "Speed: 0.403694 seconds\n",
      "Max Depth of Tree: 222\n",
      "********************\n",
      "Test Model 4:\n",
      "RMSE: 0.95\n",
      "Speed: 0.553892 seconds\n",
      "Max Depth of Tree: 241\n",
      "********************\n"
     ]
    }
   ],
   "source": [
    "# Test Decision Tree based on various minimum number of records required to split a node\n",
    "\n",
    "tests = [[20, 10, None], [30, 10, None], [20, 20, None], [30, 20, None], [20, 20, None]]\n",
    "\n",
    "results = [DecisionTree.test_model(wine_data, i[0], i[1], i[2]) for i in tests]\n",
    "\n",
    "for i in range(len(tests)):\n",
    "    print(\"Test Model {0}:\".format(i))\n",
    "    print(\"RMSE: {0}\".format(results[i][2]))\n",
    "    print(\"Speed: {0} seconds\".format(results[i][3]))\n",
    "    print(\"Max Depth of Tree: {}\".format(results[i][5]))\n",
    "    print(\"*\"*20)\n",
    "    "
   ]
  },
  {
   "cell_type": "code",
   "execution_count": 144,
   "metadata": {},
   "outputs": [
    {
     "name": "stdout",
     "output_type": "stream",
     "text": [
      "Test Model 0:\n",
      "RMSE: 0.93\n",
      "Speed: 0.291826 seconds\n",
      "Max Depth of Tree: 200\n",
      "********************\n",
      "Test Model 1:\n",
      "RMSE: 0.82\n",
      "Speed: 0.018139 seconds\n",
      "Max Depth of Tree: 10\n",
      "********************\n",
      "Test Model 2:\n",
      "RMSE: 0.83\n",
      "Speed: 0.030599 seconds\n",
      "Max Depth of Tree: 20\n",
      "********************\n",
      "Test Model 3:\n",
      "RMSE: 0.82\n",
      "Speed: 0.018352 seconds\n",
      "Max Depth of Tree: 10\n",
      "********************\n",
      "Test Model 4:\n",
      "RMSE: 0.95\n",
      "Speed: 0.347224 seconds\n",
      "Max Depth of Tree: 241\n",
      "********************\n"
     ]
    }
   ],
   "source": [
    "# Test Decision Tree based on various minimum number of records required to split a node\n",
    "\n",
    "tests = [[30, 20, 200], [20, 10, 10], [30, 10, 20], [20, 20, 10], [20, 20, 300]]\n",
    "\n",
    "results = [DecisionTree.test_model(wine_data, i[0], i[1], i[2]) for i in tests]\n",
    "\n",
    "for i in range(len(tests)):\n",
    "    print(\"Test Model {0}:\".format(i))\n",
    "    print(\"RMSE: {0}\".format(results[i][2]))\n",
    "    print(\"Speed: {0} seconds\".format(results[i][3]))\n",
    "    print(\"Max Depth of Tree: {}\".format(results[i][5]))\n",
    "    print(\"*\"*20)"
   ]
  },
  {
   "cell_type": "code",
   "execution_count": null,
   "metadata": {},
   "outputs": [],
   "source": []
  }
 ],
 "metadata": {
  "kernelspec": {
   "display_name": "Python 3",
   "language": "python",
   "name": "python3"
  },
  "language_info": {
   "codemirror_mode": {
    "name": "ipython",
    "version": 3
   },
   "file_extension": ".py",
   "mimetype": "text/x-python",
   "name": "python",
   "nbconvert_exporter": "python",
   "pygments_lexer": "ipython3",
   "version": "3.8.5"
  }
 },
 "nbformat": 4,
 "nbformat_minor": 4
}
