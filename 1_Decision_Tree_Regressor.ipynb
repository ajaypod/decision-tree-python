{
 "cells": [
  {
   "cell_type": "code",
   "execution_count": 1,
   "metadata": {},
   "outputs": [],
   "source": [
    "import numpy as np\n",
    "import importlib\n",
    "import DecisionTree\n",
    "importlib.reload(DecisionTree)\n",
    "import pandas as pd"
   ]
  },
  {
   "cell_type": "code",
   "execution_count": 2,
   "metadata": {},
   "outputs": [],
   "source": [
    "# Import Data\n",
    "wine_data = pd.read_csv(\"data/winequality-white.csv\", sep=\";\").values"
   ]
  },
  {
   "cell_type": "code",
   "execution_count": 3,
   "metadata": {},
   "outputs": [
    {
     "name": "stdout",
     "output_type": "stream",
     "text": [
      "Test Model 0:\n",
      "RMSE: 1.01\n",
      "Speed: 0.554267 seconds\n",
      "********************\n",
      "Test Model 1:\n",
      "RMSE: 0.98\n",
      "Speed: 0.495263 seconds\n",
      "********************\n",
      "Test Model 2:\n",
      "RMSE: 0.95\n",
      "Speed: 0.301972 seconds\n",
      "********************\n",
      "Test Model 3:\n",
      "RMSE: 0.98\n",
      "Speed: 0.276615 seconds\n",
      "********************\n",
      "Test Model 4:\n",
      "RMSE: 0.8\n",
      "Speed: 0.014234 seconds\n",
      "********************\n"
     ]
    }
   ],
   "source": [
    "# Test Decision Tree based on various minimum number of records required to split a node\n",
    "\n",
    "tests = [[20, 10], [30, 10], [20, 20], [30, 20], [40,800]]\n",
    "\n",
    "results = [DecisionTree.test_model(wine_data, i[0], i[1]) for i in tests]\n",
    "\n",
    "for i in range(len(tests)):\n",
    "    print(\"Test Model {0}:\".format(i))\n",
    "    print(\"RMSE: {0}\".format(results[i][2]))\n",
    "    print(\"Speed: {0} seconds\".format(results[i][3]))\n",
    "    print(\"*\"*20)\n"
   ]
  },
  {
   "cell_type": "code",
   "execution_count": null,
   "metadata": {},
   "outputs": [],
   "source": []
  }
 ],
 "metadata": {
  "kernelspec": {
   "display_name": "Python 3",
   "language": "python",
   "name": "python3"
  },
  "language_info": {
   "codemirror_mode": {
    "name": "ipython",
    "version": 3
   },
   "file_extension": ".py",
   "mimetype": "text/x-python",
   "name": "python",
   "nbconvert_exporter": "python",
   "pygments_lexer": "ipython3",
   "version": "3.8.5"
  }
 },
 "nbformat": 4,
 "nbformat_minor": 4
}
