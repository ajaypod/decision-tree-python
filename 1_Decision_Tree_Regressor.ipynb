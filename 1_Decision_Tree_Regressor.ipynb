{
 "cells": [
  {
   "cell_type": "markdown",
   "metadata": {},
   "source": [
    "## Decision Tree Regressor "
   ]
  },
  {
   "cell_type": "code",
   "execution_count": 1,
   "metadata": {},
   "outputs": [],
   "source": [
    "import numpy as np\n",
    "import importlib\n",
    "import DecisionTree\n",
    "importlib.reload(DecisionTree)\n",
    "import pandas as pd\n",
    "import datetime as dt\n",
    "from sklearn.model_selection import train_test_split\n",
    "from sklearn.metrics import mean_squared_error"
   ]
  },
  {
   "cell_type": "code",
   "execution_count": 2,
   "metadata": {},
   "outputs": [],
   "source": [
    "# Import Data\n",
    "wine_data = pd.read_csv(\"data/winequality_white.csv\", sep=\";\").values\n",
    "\n",
    "col_names = pd.read_csv(\"data/winequality_white.csv\", sep=\";\").columns\n"
   ]
  },
  {
   "cell_type": "code",
   "execution_count": 3,
   "metadata": {},
   "outputs": [
    {
     "name": "stdout",
     "output_type": "stream",
     "text": [
      "Test Model 0:\n",
      "RMSE: 1.01\n",
      "Speed: 1.174227 seconds\n",
      "Min leaf split: 10\n",
      "Number of Nodes of Tree: 427\n",
      "********************\n",
      "Test Model 1:\n",
      "RMSE: 0.96\n",
      "Speed: 0.848776 seconds\n",
      "Min leaf split: 10\n",
      "Number of Nodes of Tree: 395\n",
      "********************\n",
      "Test Model 2:\n",
      "RMSE: 0.95\n",
      "Speed: 0.532239 seconds\n",
      "Min leaf split: 20\n",
      "Number of Nodes of Tree: 241\n",
      "********************\n",
      "Test Model 3:\n",
      "RMSE: 0.94\n",
      "Speed: 0.490956 seconds\n",
      "Min leaf split: 20\n",
      "Number of Nodes of Tree: 222\n",
      "********************\n",
      "Test Model 4:\n",
      "RMSE: 1.01\n",
      "Speed: 1.004644 seconds\n",
      "Min leaf split: 10\n",
      "Number of Nodes of Tree: 427\n",
      "********************\n"
     ]
    }
   ],
   "source": [
    "# Test Decision Tree based on various minimum number of records required to split a node\n",
    "\n",
    "tests = [[20, 10, None], [30, 10, None], [20, 20, None], [30, 20, None], [20, 10, None]]\n",
    "\n",
    "results = [DecisionTree.test_model(wine_data, i[0], i[1], i[2]) for i in tests]\n",
    "\n",
    "for i in range(len(tests)):\n",
    "    print(\"Test Model {0}:\".format(i))\n",
    "    print(\"RMSE: {0}\".format(results[i][2]))\n",
    "    print(\"Speed: {0} seconds\".format(results[i][3]))\n",
    "    print(\"Min leaf split: {}\".format(tests[i][1]))\n",
    "    print(\"Number of Nodes of Tree: {}\".format(results[i][5]))\n",
    "    print(\"*\"*20)\n",
    "    "
   ]
  },
  {
   "cell_type": "code",
   "execution_count": 4,
   "metadata": {},
   "outputs": [
    {
     "name": "stdout",
     "output_type": "stream",
     "text": [
      "Test Model 0:\n",
      "RMSE: 0.93\n",
      "Speed: 0.602106 seconds\n",
      "Min leaf split: 20\n",
      "Number of nodes: 200\n",
      "********************\n",
      "Test Model 1:\n",
      "RMSE: 0.82\n",
      "Speed: 0.029231 seconds\n",
      "Min leaf split: 10\n",
      "Number of nodes: 10\n",
      "********************\n",
      "Test Model 2:\n",
      "RMSE: 0.83\n",
      "Speed: 0.055012 seconds\n",
      "Min leaf split: 10\n",
      "Number of nodes: 20\n",
      "********************\n",
      "Test Model 3:\n",
      "RMSE: 0.82\n",
      "Speed: 0.02748 seconds\n",
      "Min leaf split: 20\n",
      "Number of nodes: 10\n",
      "********************\n",
      "Test Model 4:\n",
      "RMSE: 0.83\n",
      "Speed: 0.071782 seconds\n",
      "Min leaf split: 2\n",
      "Number of nodes: 24\n",
      "********************\n"
     ]
    }
   ],
   "source": [
    "# Test Decision Tree based on various minimum number of records required to split a node\n",
    "\n",
    "tests = [[30, 20, 200], [20, 10, 10], [30, 10, 20], [20, 20, 10], [20, 2, 24]]\n",
    "\n",
    "results = [DecisionTree.test_model(wine_data, i[0], i[1], i[2]) for i in tests]\n",
    "\n",
    "for i in range(len(tests)):\n",
    "    print(\"Test Model {0}:\".format(i))\n",
    "    print(\"RMSE: {0}\".format(results[i][2]))\n",
    "    print(\"Speed: {0} seconds\".format(results[i][3]))\n",
    "    print(\"Min leaf split: {}\".format(tests[i][1]))\n",
    "    print(\"Number of nodes: {}\".format(results[i][5]))\n",
    "    print(\"*\"*20)\n",
    "    "
   ]
  },
  {
   "cell_type": "markdown",
   "metadata": {},
   "source": [
    "#### Train & Test Sample code "
   ]
  },
  {
   "cell_type": "code",
   "execution_count": 5,
   "metadata": {},
   "outputs": [],
   "source": [
    "\n",
    "random_state = 20\n",
    "\n",
    "min_leaf_size = 20\n",
    "\n",
    "max_nodes = 10\n",
    "\n",
    "x_train, x_test, y_train, y_test = train_test_split(wine_data[:, :-1],\n",
    "                                                        wine_data[:, -1],\n",
    "                                                        test_size=0.2,\n",
    "                                                        random_state=random_state)\n",
    "# Start the timer\n",
    "start = dt.datetime.now()\n",
    "# Create the model\n",
    "tree_model = DecisionTree.DecisionTree(decision_boundary=list(),node_feature=list())\n",
    "# train the model\n",
    "tree_model.train_tree(x_train, y_train, min_leaf_size=min_leaf_size,max_nodes=max_nodes)\n",
    "\n",
    "predictions = tree_model.predict(x_test)"
   ]
  },
  {
   "cell_type": "code",
   "execution_count": null,
   "metadata": {},
   "outputs": [],
   "source": []
  }
 ],
 "metadata": {
  "kernelspec": {
   "display_name": "Python 3",
   "language": "python",
   "name": "python3"
  },
  "language_info": {
   "codemirror_mode": {
    "name": "ipython",
    "version": 3
   },
   "file_extension": ".py",
   "mimetype": "text/x-python",
   "name": "python",
   "nbconvert_exporter": "python",
   "pygments_lexer": "ipython3",
   "version": "3.8.7"
  }
 },
 "nbformat": 4,
 "nbformat_minor": 4
}
